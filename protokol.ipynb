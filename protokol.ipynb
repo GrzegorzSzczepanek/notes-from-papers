{
 "cells": [
  {
   "cell_type": "markdown",
   "metadata": {},
   "source": [
    "# Przygotowanie pokoju\n",
    "* Pomieszczenie powinno być w temperaturze, która zapewni badanemu komfort.\n",
    "* Nie można pozwolić na to by było tam za ciepło (pocenie powoduje artefakty), oraz za zimno. \n",
    "* Wszystkie urządzenia elektrycze powinny zostać wyłączone oza urządzeniami potrzebnymi do przeprowadzenia badania."
   ]
  },
  {
   "cell_type": "markdown",
   "metadata": {},
   "source": [
    "\n",
    "# Wybór Osób badanych\n",
    "Wybieramy \"typową\" grupę kilkunastu uczniów liceum, którzy wyrażą posemną zgodę na udział w badaniu. Każdy z nich powinien:\n",
    "* Być praworęczny\n",
    "* Nie posiadać problemów zdrowotnych (np. chorób serca)\n",
    "* Nie posiadać chorób psychicznych (np. schizofrenia)\n",
    "* Nie posiadać chorób neurologicznych (np. padaczka)\n",
    "* Nie być pod wpływem substancji mających wpływ na układ nerwowy (np. alkohol)\n",
    "* Taka sama ilość kobiet i mężczyzn"
   ]
  },
  {
   "cell_type": "markdown",
   "metadata": {},
   "source": [
    "\n",
    "# Przeprowadzenie badania\n",
    "    "
   ]
  },
  {
   "cell_type": "markdown",
   "metadata": {},
   "source": [
    "## Przygotowanie do badania\n",
    "* Zapoznanie badanego z przebiegiem badania\n",
    "* Upewnienie się, że uczestnik zrozumiał na czym badanie będzie polegało\n",
    "* Mówimy uczestnikom o nagrodach za udział w badaniu, lub o nagrodach za wykazanie się w trakcie badania\n",
    "* Można nawiązać smalltalk by uniknąć znudzenia u badanego przed badaniem.\n",
    "* Zebranie danych osobowych od uczestników\n",
    "* Podanie części uczestników fałszywych danych\n",
    "* Przeprowadzenie testu, który polega na sprawdzeniu czy badani pamiętają swoją fałszywą tożsamość. Wynik testu powinien wynosić 100%\n",
    "* Założenie sprzętu do pomiaru na uczestnika badania"
   ]
  },
  {
   "cell_type": "markdown",
   "metadata": {},
   "source": [
    "## Zachowanie osoby badanej w trakcie badania\n",
    "By uniknąć artefaktów osoba badana powinna:\n",
    "* Usiąść zrelaksowana\n",
    "* Unikać spinania mięśni i \n",
    "* Nie ruszać się\n",
    "* Unikać ruchów gałkami ocznymi. \n",
    "(tutaj będziemy pokazywać imiona, więc zamknięcie oczu by uniknąć artefaktów z mrugania odpada)"
   ]
  },
  {
   "cell_type": "markdown",
   "metadata": {},
   "source": [
    "\n",
    "## Badanie\n",
    "Na eksperyment będą składały się cztery bloki, w których badani będą musieli:\n",
    "* Udzielić prawdziwej odpowiedzi \"Tak\" dla prawdziwej tożsamości\n",
    "* Udzielić prawdziwej odpowiedzi \"Nie\" dla fałszywej tożsamości\n",
    "* Udzielić kłamiącej odpowiedzi \"Nie\" dla ich prawdziwej tożsamości\n",
    "* Udzielić kłamiącej odpowiedzi \"Tak\" w odpowiedzi na tożsamość fałszywą\n",
    "    \n",
    "Między blokami będą również catch trials, w których uczestnik będzie musiał potwierdzić (Odpowiedzieć \"Tak\") w odpowiedzi na tożsamość jakiejś znanej osoby i zaprzeczyć dla kompletnie nieznanej. Ma to na celu utrzymanie koncentracji uczestnika. \n",
    "\n",
    "Badanie będzie zawierało 50 testowych triali z losoywmi tożsamościami i 70 catch trials. \n",
    "\n"
   ]
  },
  {
   "cell_type": "markdown",
   "metadata": {},
   "source": [
    "        \n",
    "## Przebieg badania\n",
    "Triale były prezentowane losowo\n",
    "\n",
    "* Każdy trial zaczyna się krzyżykiem fiksacji na środku ekranu przez około 400-600ms\n",
    "* Potem badany otrzymuje bodziec związany z informacją o tożsamości\n",
    "* Bodziec znika po udzieleniu odpowiedzi, lub po upływie czasu (więcej niż sekunda)\n",
    "* Na końcu pojawia się pusty ekran, którego czas trwania wynosi od 1300 ms do 1600 ms\n",
    "\n"
   ]
  },
  {
   "cell_type": "markdown",
   "metadata": {},
   "source": [
    "## Przerwy\n",
    "Badanie mozna podzielić na bloki trwające 5-7 minut z przerwami na odpoczynek trwającymi 1-2 minut.\n"
   ]
  },
  {
   "cell_type": "markdown",
   "metadata": {},
   "source": [
    "\n",
    "## Po zakończeniu badania\n",
    "* Informujemy, że badanie zostało zakończone\n",
    "* Zdejmujemy z uczestnika sprzęt\n",
    "* Przekazujemy nagrody za udział w badaniu\n",
    "* Odpowiadamy na ewentualne pytania"
   ]
  }
 ],
 "metadata": {
  "language_info": {
   "name": "python"
  }
 },
 "nbformat": 4,
 "nbformat_minor": 2
}
